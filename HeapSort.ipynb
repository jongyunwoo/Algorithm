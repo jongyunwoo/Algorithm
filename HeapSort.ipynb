{
 "cells": [
  {
   "attachments": {},
   "cell_type": "markdown",
   "metadata": {},
   "source": [
    "# Question 1: Heapsort Algorithm"
   ]
  },
  {
   "attachments": {},
   "cell_type": "markdown",
   "metadata": {},
   "source": [
    "## a) Heapify Operation:\n",
    "### Implement the heapify operation to maintain the max-heap property. Write a function “def heapify(arr, n, i)” that takes an array and an index as inputs and performs the heapify operation. Test this function on array [5, 2, 7, 6, 0, 8, 3, 4, 9, 1]."
   ]
  },
  {
   "cell_type": "code",
   "execution_count": 2,
   "metadata": {},
   "outputs": [
    {
     "name": "stdout",
     "output_type": "stream",
     "text": [
      "[9, 6, 8, 5, 1, 7, 3, 4, 2, 0]\n"
     ]
    }
   ],
   "source": [
    "def maxheapify(arr, n, i):\n",
    "    l = 2*i + 1\n",
    "    r = 2*i + 2\n",
    "    if l < n and arr[l] > arr[i]:\n",
    "        largest = l\n",
    "    else:\n",
    "        largest = i\n",
    "    if r < n and arr[r] > arr[largest]:\n",
    "        largest = r\n",
    "    if largest is not i:\n",
    "        k = arr[i]\n",
    "        arr[i] = arr[largest]\n",
    "        arr[largest] = k\n",
    "        maxheapify(arr, n, largest)\n",
    "\n",
    "array = [5, 2, 7, 6, 0, 8, 3, 4, 9, 1]\n",
    "n = len(array)\n",
    "for i in range(n // 2 - 1, -1, -1):\n",
    "    maxheapify(array, n, i)\n",
    "print(array)\n"
   ]
  },
  {
   "attachments": {},
   "cell_type": "markdown",
   "metadata": {},
   "source": [
    "## b)Build Max-Heap:\n",
    "### Write a Python function to build a max-heap from an unsorted array “def build_max_heap(arr, n)”. Test this function on array [5, 2, 7, 6, 0, 8, 3, 4, 9, 1]."
   ]
  },
  {
   "cell_type": "code",
   "execution_count": 3,
   "metadata": {},
   "outputs": [
    {
     "name": "stdout",
     "output_type": "stream",
     "text": [
      "[5, 2, 7, 6, 0, 8, 3, 4, 9, 1]\n",
      "[9, 6, 8, 5, 1, 7, 3, 4, 2, 0]\n"
     ]
    }
   ],
   "source": [
    "def build_max_head(arr, n):\n",
    "    n = len(arr)\n",
    "    for i in range(n//2, -1, -1):\n",
    "        maxheapify(arr, n, i)\n",
    "\n",
    "array = [5, 2, 7, 6, 0, 8, 3, 4, 9, 1]\n",
    "print(array)\n",
    "build_max_head(array, len(array))\n",
    "print(array)"
   ]
  },
  {
   "attachments": {},
   "cell_type": "markdown",
   "metadata": {},
   "source": [
    "## c) Heapsort Algorithm:\n",
    "### Implement the heapsort algorithm using the max-heap data structure. Write a function that takes an array as input, sorts it using heapsort, and returns the sorted array “def heapsort(arr, n)”. Test your heapsort implementation on array [5, 2, 7, 6, 0, 8, 3, 4, 9, 1]."
   ]
  },
  {
   "cell_type": "code",
   "execution_count": 4,
   "metadata": {},
   "outputs": [
    {
     "name": "stdout",
     "output_type": "stream",
     "text": [
      "[5, 2, 7, 6, 0, 8, 3, 4, 9, 1]\n",
      "[0, 1, 2, 3, 4, 5, 6, 7, 8, 9]\n"
     ]
    }
   ],
   "source": [
    "def heapsort(arr, n):\n",
    "    build_max_head(arr, n)\n",
    "    for i in range(n-1, -1, -1):\n",
    "        arr[0], arr[i] = arr[i], arr[0]\n",
    "        n = n - 1\n",
    "        maxheapify(arr, n, 0)\n",
    "\n",
    "array = [5, 2, 7, 6, 0, 8, 3, 4, 9, 1]\n",
    "print(array)\n",
    "heapsort(array, len(array))\n",
    "print(array)"
   ]
  },
  {
   "attachments": {},
   "cell_type": "markdown",
   "metadata": {},
   "source": [
    "## d) Time Analysis:\n",
    "### Check the time of sorting various input random arrays with sizes (1000, 100,000, 1,000,000) using heapsort algorithm."
   ]
  },
  {
   "cell_type": "code",
   "execution_count": 7,
   "metadata": {},
   "outputs": [
    {
     "name": "stdout",
     "output_type": "stream",
     "text": [
      "size : 1000, time : 0.007392168045043945\n",
      "size : 1000000, time : 13.560498237609863\n",
      "size : 1000000, time : 13.603277683258057\n"
     ]
    }
   ],
   "source": [
    "import time\n",
    "import numpy as np\n",
    "\n",
    "for i in [1000, 1000000, 1000000]:\n",
    "    array = np.random.randint(i, size = [i])\n",
    "    start_time = time.time()\n",
    "    heapsort(array, len(array))\n",
    "    end_time = time.time()\n",
    "    print(\"size : {}, time : {}\".format(i, end_time-start_time))\n",
    "    \n",
    "\n"
   ]
  },
  {
   "attachments": {},
   "cell_type": "markdown",
   "metadata": {},
   "source": [
    "# Question 2: Heapsort Algorithm (Descending Order)Repeat question 1 (a), (b), and (c) using min-heap property and sort array in descending order."
   ]
  },
  {
   "cell_type": "code",
   "execution_count": 15,
   "metadata": {},
   "outputs": [
    {
     "name": "stdout",
     "output_type": "stream",
     "text": [
      "[0, 1, 3, 4, 2, 8, 7, 6, 9, 5]\n",
      "[0, 1, 3, 4, 2, 8, 7, 6, 9, 5]\n",
      "[9, 8, 7, 6, 5, 4, 3, 2, 1, 0]\n"
     ]
    }
   ],
   "source": [
    "def minheapify(arr, n, i):\n",
    "    l = 2*i + 1\n",
    "    r = 2*i + 2\n",
    "    if l < n and arr[l] < arr[i]:\n",
    "        shortest = l\n",
    "    else:\n",
    "        shortest = i\n",
    "    if r < n and arr[r] < arr[shortest]:\n",
    "        shortest = r\n",
    "    if shortest is not i:\n",
    "        k = arr[i]\n",
    "        arr[i] = arr[shortest]\n",
    "        arr[shortest] = k\n",
    "        minheapify(arr, n, shortest)\n",
    "\n",
    "array = [5, 2, 7, 6, 0, 8, 3, 4, 9, 1]\n",
    "n = len(array)\n",
    "for i in range(n // 2 - 1, -1, -1):\n",
    "    minheapify(array, n, i)\n",
    "print(array)\n",
    "\n",
    "def build_min_head(arr, n):\n",
    "    n = len(arr)\n",
    "    for i in range(n//2, -1, -1):\n",
    "        minheapify(arr, n, i)\n",
    "\n",
    "array = [5, 2, 7, 6, 0, 8, 3, 4, 9, 1]\n",
    "build_max_head(array, len(array))\n",
    "print(array)\n",
    "\n",
    "def heapsort(arr, n):\n",
    "    build_min_head(arr, n)\n",
    "    for i in range(n-1, -1, -1):\n",
    "        arr[0], arr[i] = arr[i], arr[0]\n",
    "        n = n - 1\n",
    "        minheapify(arr, n, 0)\n",
    "\n",
    "array = [5, 2, 7, 6, 0, 8, 3, 4, 9, 1]\n",
    "heapsort(array, len(array))\n",
    "print(array)\n"
   ]
  },
  {
   "attachments": {},
   "cell_type": "markdown",
   "metadata": {},
   "source": [
    "# Question 3: Basic Heap Implementation (Priority Queue)\n",
    "## Write a Python class for a max-heap. Include methods for \n",
    "## • inserting an element,\n",
    "## • extracting the maximum element, and\n",
    "## • checking if the heap is empty. \n",
    "## Test your implementation with a few insertions and extractions."
   ]
  },
  {
   "cell_type": "code",
   "execution_count": 17,
   "metadata": {},
   "outputs": [
    {
     "name": "stdout",
     "output_type": "stream",
     "text": [
      "추출된 최대값: 20\n",
      "추출 후 힙: [10, 5]\n"
     ]
    }
   ],
   "source": [
    "import math\n",
    "\n",
    "def parent(i):\n",
    "    return (i-1) // 2\n",
    "\n",
    "def left(i):\n",
    "    return 2*i+1\n",
    "\n",
    "def right(i):\n",
    "    return 2*i+2\n",
    "\n",
    "def maxheapmaximum(arr):\n",
    "    if len(arr) < 1:\n",
    "        raise ValueError('heap underflow')\n",
    "    else:\n",
    "        return arr[0]\n",
    "\n",
    "def maxheapextractmax(arr):\n",
    "    n = len(arr)\n",
    "    max = maxheapmaximum(arr)\n",
    "    arr[0] = arr[n-1]\n",
    "    arr.pop()\n",
    "    maxheapify(arr, len(arr), 0)\n",
    "    return max\n",
    "\n",
    "def maxheapincreasekey(arr, x, k):\n",
    "    if k < arr[x]:\n",
    "        raise ValueError('new key is smaller than current key')\n",
    "    arr[x] = k\n",
    "    while x > 0 and arr[parent(x)] < arr[x]:\n",
    "        arr[x], arr[parent(x)] = arr[parent(x)], arr[x]\n",
    "        x = parent(x)\n",
    "\n",
    "def maxheapinsert(arr, x, n):\n",
    "    if len(arr) == n:\n",
    "        raise ValueError('heap overflow')\n",
    "\n",
    "    arr.append(-math.inf)\n",
    "    maxheapincreasekey(arr, len(arr) -1, x)\n",
    "\n",
    "arr = []\n",
    "maxheapinsert(arr, 10, 10)  # 10 삽입\n",
    "maxheapinsert(arr, 20, 10)  # 20 삽입\n",
    "maxheapinsert(arr, 5, 10)   # 5 삽입\n",
    "max_element = maxheapextractmax(arr)  # 최대값 추출 (20)\n",
    "print(f'추출된 최대값: {max_element}')\n",
    "print(f'추출 후 힙: {arr}')\n"
   ]
  },
  {
   "cell_type": "code",
   "execution_count": null,
   "metadata": {},
   "outputs": [],
   "source": []
  }
 ],
 "metadata": {
  "kernelspec": {
   "display_name": "algorithm",
   "language": "python",
   "name": "python3"
  },
  "language_info": {
   "codemirror_mode": {
    "name": "ipython",
    "version": 3
   },
   "file_extension": ".py",
   "mimetype": "text/x-python",
   "name": "python",
   "nbconvert_exporter": "python",
   "pygments_lexer": "ipython3",
   "version": "3.11.2"
  },
  "orig_nbformat": 4
 },
 "nbformat": 4,
 "nbformat_minor": 2
}
