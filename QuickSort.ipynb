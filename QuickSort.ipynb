{
 "cells": [
  {
   "attachments": {},
   "cell_type": "markdown",
   "metadata": {},
   "source": [
    "# Question 1: Basic Quicksort\n",
    "## Write a Python function to implement the basic Quicksort algorithm.\n",
    "### •Include partitioning (pivot to be always in the middle of array) and recursive calls.\n",
    "### • Define new left, middle, and right arrays!\n",
    "### • Test your function using [5, 2, 8, 6, 0, 7, 1, 4, 9, 3]"
   ]
  },
  {
   "cell_type": "code",
   "execution_count": 12,
   "metadata": {},
   "outputs": [
    {
     "data": {
      "text/plain": [
       "[0, 1, 2, 3, 4, 5, 6, 7, 8, 9]"
      ]
     },
     "execution_count": 12,
     "metadata": {},
     "output_type": "execute_result"
    }
   ],
   "source": [
    "def basic_quiksort(arr):\n",
    "    if len(arr) <= 1:\n",
    "        return arr\n",
    "    pivot = arr[len(arr)//2]\n",
    "    left = [x for x in arr if x < pivot]\n",
    "    middle = [x for x in arr if x == pivot]\n",
    "    right = [x for x in arr if x > pivot]\n",
    "    return basic_quiksort(left) + middle + basic_quiksort(right)\n",
    "\n",
    "arr = [5, 2, 8, 6, 0, 7, 1, 4, 9, 3]\n",
    "basic_quiksort(arr)\n"
   ]
  },
  {
   "cell_type": "markdown",
   "metadata": {},
   "source": [
    "#  Question 2: Partitioning\n",
    "## Implement the partitioning operation for the Quicksort algorithm.\n",
    "### • Write a function that takes an array, a starting index, and an ending index, and rearranges the array elements around the pivot.\n",
    "### • Test your partitioning function using [5, 2, 8, 6, 0, 7, 1, 4, 9, 3]"
   ]
  },
  {
   "cell_type": "code",
   "execution_count": 28,
   "metadata": {},
   "outputs": [
    {
     "name": "stdout",
     "output_type": "stream",
     "text": [
      "3\n"
     ]
    }
   ],
   "source": [
    "def partition(arr, p, r):\n",
    "    x = arr[r]\n",
    "    i = p - 1\n",
    "    for j in range(p, r):\n",
    "        if arr[j] <= x:\n",
    "            i = i + 1\n",
    "            arr[i], arr[j] = arr[j], arr[i]\n",
    "    arr[i+1], arr[r] = arr[r], arr[i+1]\n",
    "    return i+1\n",
    "\n",
    "arr = [5, 2, 8, 6, 0, 7, 1, 4, 9, 3]\n",
    "index = partition(arr, 0, len(arr)-1)\n",
    "print(index)"
   ]
  },
  {
   "attachments": {},
   "cell_type": "markdown",
   "metadata": {},
   "source": [
    "# Question 3: Quicksort with Partitioning\n",
    "## Implement the Quicksort algorithm using the partition function of question 2.\n",
    "### • Test your Quicksort function using [5, 2, 8, 6, 0, 7, 1, 4, 9, 3]"
   ]
  },
  {
   "cell_type": "code",
   "execution_count": 29,
   "metadata": {},
   "outputs": [
    {
     "name": "stdout",
     "output_type": "stream",
     "text": [
      "[0, 1, 2, 3, 4, 5, 6, 7, 8, 9]\n"
     ]
    }
   ],
   "source": [
    "def QUICKSORT(arr, p, r):\n",
    "    if p < r:\n",
    "        q = partition(arr, p, r)\n",
    "        QUICKSORT(arr, p, q-1)\n",
    "        QUICKSORT(arr, q+1, r)\n",
    "\n",
    "arr = [5, 2, 8, 6, 0, 7, 1, 4, 9, 3]\n",
    "QUICKSORT(arr, 0, len(arr) - 1)\n",
    "print(arr)"
   ]
  },
  {
   "attachments": {},
   "cell_type": "markdown",
   "metadata": {},
   "source": [
    "# Question 4: Randomized Quicksort\n",
    "### • Implement the randomized version of Quicksort using randomized partitioning technique.\n",
    "### • Compare the performance of the randomized quicksort with original implementation of quicksort that select last element as pivot.\n",
    "### • Test this comparison on various random arrays."
   ]
  },
  {
   "cell_type": "code",
   "execution_count": 33,
   "metadata": {},
   "outputs": [
    {
     "name": "stdout",
     "output_type": "stream",
     "text": [
      "[24 39  5 27 11]\n",
      "original : 1, random : 1\n",
      "[5 4 4 1 6 8 3 2 0 8]\n",
      "original : 9, random : 5\n",
      "[63 70 19 22 38 22 42 51 68 54 13 43 69 38 67]\n",
      "original : 11, random : 13\n",
      "[18  1 10 14 18  1  7  3  7  1  5  1 18  5  5  8  4  2 11 11]\n",
      "original : 15, random : 5\n"
     ]
    },
    {
     "name": "stderr",
     "output_type": "stream",
     "text": [
      "/var/folders/yd/tz7q7s1d7mq6bfn52dc7kxd40000gn/T/ipykernel_3924/4263614378.py:5: DeprecationWarning: Conversion of an array with ndim > 0 to a scalar is deprecated, and will error in future. Ensure you extract a single element from your array before performing this operation. (Deprecated NumPy 1.25.)\n",
      "  arr[r], arr[i] = arr[i], arr[r]\n"
     ]
    }
   ],
   "source": [
    "import numpy as np\n",
    "\n",
    "def randomized_partition(arr, p, r):\n",
    "    i = np.random.randint(p, r, size=1)\n",
    "    arr[r], arr[i] = arr[i], arr[r]\n",
    "    return partition(arr, p, r)\n",
    "\n",
    "for i in [5, 10, 15, 20]:\n",
    "    arr = np.random.randint(np.random.randint(2, 100), size=i)\n",
    "    print(arr)\n",
    "    ind = partition(arr, 0, len(arr)-1)\n",
    "    rndind = randomized_partition(arr, 0, len(arr)-1)\n",
    "    print(\"original : {}, random : {}\".format(ind, rndind))\n"
   ]
  },
  {
   "cell_type": "markdown",
   "metadata": {},
   "source": [
    "# Question 5: Descending Order of Randomized Quicksort\n",
    "### • Implement randomized version of Quicksort to sort values in an array in descending order.\n",
    "### • Test your implementation using [5, 2, 8, 6, 0, 7, 1, 4, 9, 3]"
   ]
  },
  {
   "cell_type": "code",
   "execution_count": 51,
   "metadata": {},
   "outputs": [
    {
     "name": "stdout",
     "output_type": "stream",
     "text": [
      "[9, 8, 7, 6, 5, 4, 3, 2, 1, 0]\n"
     ]
    }
   ],
   "source": [
    "def partition(arr, p, r):\n",
    "    x = arr[r]\n",
    "    i = p - 1\n",
    "    for j in range(p, r):\n",
    "        if arr[j] >= x:\n",
    "            i = i + 1\n",
    "            arr[i], arr[j] = arr[j], arr[i]\n",
    "    arr[i+1], arr[r] = arr[r], arr[i+1]\n",
    "    return i+1\n",
    "\n",
    "def randomized_partition(arr, p, r):\n",
    "    i = np.random.randint(p, r)\n",
    "    arr[r], arr[i] = arr[i], arr[r]\n",
    "    return partition(arr, p, r)\n",
    "\n",
    "def Randomized_Quicksort(arr, p, r):\n",
    "    if p < r:\n",
    "        q = randomized_partition(arr, p, r)\n",
    "        Randomized_Quicksort(arr, p, q-1)\n",
    "        Randomized_Quicksort(arr, q+1, r)\n",
    "\n",
    "arr = [5, 2, 8, 6, 0, 7, 1, 4, 9, 3]\n",
    "Randomized_Quicksort(arr, 0, len(arr) - 1)\n",
    "print(arr)"
   ]
  },
  {
   "cell_type": "code",
   "execution_count": null,
   "metadata": {},
   "outputs": [],
   "source": []
  }
 ],
 "metadata": {
  "kernelspec": {
   "display_name": "algorithm",
   "language": "python",
   "name": "python3"
  },
  "language_info": {
   "codemirror_mode": {
    "name": "ipython",
    "version": 3
   },
   "file_extension": ".py",
   "mimetype": "text/x-python",
   "name": "python",
   "nbconvert_exporter": "python",
   "pygments_lexer": "ipython3",
   "version": "3.11.2"
  },
  "orig_nbformat": 4
 },
 "nbformat": 4,
 "nbformat_minor": 2
}
